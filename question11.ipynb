{
 "cells": [
  {
   "cell_type": "markdown",
   "id": "c4331ccb-016b-41a8-85e9-5639f76716a1",
   "metadata": {},
   "source": [
    "# Zhiping Li\n",
    "  Notebook for assignment 7"
   ]
  },
  {
   "cell_type": "code",
   "execution_count": 2,
   "id": "7cd09202-2c7e-4b28-b760-e4c547b8b6dd",
   "metadata": {},
   "outputs": [
    {
     "name": "stdout",
     "output_type": "stream",
     "text": [
      "5.0\n"
     ]
    }
   ],
   "source": [
    "def compute_mean(values):\n",
    "    mean = sum(values) / len(values)\n",
    "    print( mean)\n",
    "    \n",
    "compute_mean([2, 4, 6, 8])"
   ]
  },
  {
   "cell_type": "markdown",
   "id": "330eb635-2013-4da0-9ef3-3e7c6b41df7c",
   "metadata": {},
   "source": [
    "1. The function, compute_mean, takes a list of numerical values as input.\n",
    "2. The function calculates the mean by summing all the values in the list and dividing the sum by the number of values in the list.\n",
    "3. The equation of the mean is:\n",
    "   $\n",
    "    \\bar{x} = \\frac{x_1 + x_2 + \\dots + x_n}{n} = \\frac{1}{n} \\left( \\sum_{i=1}^{n} x_i \\right)\n",
    "   $"
   ]
  }
 ],
 "metadata": {
  "kernelspec": {
   "display_name": "Python [conda env:base] *",
   "language": "python",
   "name": "conda-base-py"
  },
  "language_info": {
   "codemirror_mode": {
    "name": "ipython",
    "version": 3
   },
   "file_extension": ".py",
   "mimetype": "text/x-python",
   "name": "python",
   "nbconvert_exporter": "python",
   "pygments_lexer": "ipython3",
   "version": "3.12.3"
  }
 },
 "nbformat": 4,
 "nbformat_minor": 5
}
